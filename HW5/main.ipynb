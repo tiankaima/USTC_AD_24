{
 "cells": [
  {
   "cell_type": "code",
   "execution_count": 115,
   "metadata": {},
   "outputs": [],
   "source": [
    "import pandas as pd\n",
    "import numpy as np\n",
    "import sklearn\n",
    "from matplotlib import pyplot as plt\n",
    "\n",
    "from sklearn.model_selection import cross_val_score\n",
    "from sklearn.model_selection import train_test_split\n",
    "from sklearn.ensemble import RandomForestClassifier"
   ]
  },
  {
   "cell_type": "code",
   "execution_count": 127,
   "metadata": {},
   "outputs": [
    {
     "name": "stdout",
     "output_type": "stream",
     "text": [
      "(277, 11)\n"
     ]
    },
    {
     "data": {
      "text/html": [
       "<div>\n",
       "<style scoped>\n",
       "    .dataframe tbody tr th:only-of-type {\n",
       "        vertical-align: middle;\n",
       "    }\n",
       "\n",
       "    .dataframe tbody tr th {\n",
       "        vertical-align: top;\n",
       "    }\n",
       "\n",
       "    .dataframe thead th {\n",
       "        text-align: right;\n",
       "    }\n",
       "</style>\n",
       "<table border=\"1\" class=\"dataframe\">\n",
       "  <thead>\n",
       "    <tr style=\"text-align: right;\">\n",
       "      <th></th>\n",
       "      <th>id</th>\n",
       "      <th>Class</th>\n",
       "      <th>age</th>\n",
       "      <th>menopause</th>\n",
       "      <th>tumor-size</th>\n",
       "      <th>inv-nodes</th>\n",
       "      <th>node-caps</th>\n",
       "      <th>deg-malig</th>\n",
       "      <th>breast</th>\n",
       "      <th>breast-quad</th>\n",
       "      <th>irradiat</th>\n",
       "    </tr>\n",
       "  </thead>\n",
       "  <tbody>\n",
       "    <tr>\n",
       "      <th>0</th>\n",
       "      <td>0</td>\n",
       "      <td>0</td>\n",
       "      <td>2</td>\n",
       "      <td>8</td>\n",
       "      <td>11</td>\n",
       "      <td>22</td>\n",
       "      <td>29</td>\n",
       "      <td>3</td>\n",
       "      <td>31</td>\n",
       "      <td>33</td>\n",
       "      <td>38</td>\n",
       "    </tr>\n",
       "    <tr>\n",
       "      <th>1</th>\n",
       "      <td>1</td>\n",
       "      <td>0</td>\n",
       "      <td>3</td>\n",
       "      <td>8</td>\n",
       "      <td>12</td>\n",
       "      <td>22</td>\n",
       "      <td>29</td>\n",
       "      <td>2</td>\n",
       "      <td>32</td>\n",
       "      <td>34</td>\n",
       "      <td>38</td>\n",
       "    </tr>\n",
       "    <tr>\n",
       "      <th>2</th>\n",
       "      <td>2</td>\n",
       "      <td>0</td>\n",
       "      <td>3</td>\n",
       "      <td>8</td>\n",
       "      <td>12</td>\n",
       "      <td>22</td>\n",
       "      <td>29</td>\n",
       "      <td>2</td>\n",
       "      <td>31</td>\n",
       "      <td>33</td>\n",
       "      <td>38</td>\n",
       "    </tr>\n",
       "    <tr>\n",
       "      <th>3</th>\n",
       "      <td>3</td>\n",
       "      <td>0</td>\n",
       "      <td>4</td>\n",
       "      <td>9</td>\n",
       "      <td>13</td>\n",
       "      <td>22</td>\n",
       "      <td>29</td>\n",
       "      <td>2</td>\n",
       "      <td>32</td>\n",
       "      <td>35</td>\n",
       "      <td>38</td>\n",
       "    </tr>\n",
       "    <tr>\n",
       "      <th>4</th>\n",
       "      <td>4</td>\n",
       "      <td>0</td>\n",
       "      <td>3</td>\n",
       "      <td>8</td>\n",
       "      <td>14</td>\n",
       "      <td>22</td>\n",
       "      <td>29</td>\n",
       "      <td>2</td>\n",
       "      <td>32</td>\n",
       "      <td>36</td>\n",
       "      <td>38</td>\n",
       "    </tr>\n",
       "  </tbody>\n",
       "</table>\n",
       "</div>"
      ],
      "text/plain": [
       "   id  Class  age  menopause  tumor-size  inv-nodes  node-caps  deg-malig  \\\n",
       "0   0      0    2          8          11         22         29          3   \n",
       "1   1      0    3          8          12         22         29          2   \n",
       "2   2      0    3          8          12         22         29          2   \n",
       "3   3      0    4          9          13         22         29          2   \n",
       "4   4      0    3          8          14         22         29          2   \n",
       "\n",
       "   breast  breast-quad  irradiat  \n",
       "0      31           33        38  \n",
       "1      32           34        38  \n",
       "2      31           33        38  \n",
       "3      32           35        38  \n",
       "4      32           36        38  "
      ]
     },
     "execution_count": 127,
     "metadata": {},
     "output_type": "execute_result"
    }
   ],
   "source": [
    "data_1 = False\n",
    "\n",
    "if data_1:\n",
    "    data = pd.read_csv(\"data.csv\")\n",
    "    data = data.dropna()\n",
    "    data[\"diagnosis\"] = data[\"diagnosis\"].map({\"M\": 1, \"B\": 0})\n",
    "else:\n",
    "    data = pd.read_csv(\"data2.csv\")\n",
    "    data = data.dropna()\n",
    "    data[\"tumor-size\"] = (\n",
    "        data[\"tumor-size\"].replace(\"14-Oct\", \"10-14\").replace(\"9-May\", \"9\")\n",
    "    )\n",
    "    data[\"inv-nodes\"] = (\n",
    "        data[\"inv-nodes\"]\n",
    "        .replace(\"11-Sep\", \"9-11\")\n",
    "        .replace(\"5-Mar\", \"3-5\")\n",
    "        .replace(\"14-Dec\", \"12-14\")\n",
    "    )\n",
    "\n",
    "    mappings = {}\n",
    "    offset = 0\n",
    "    for col in data.columns:\n",
    "        if data[col].dtype == \"object\":\n",
    "            mapping = {v: k for k, v in enumerate(data[col].unique())}\n",
    "            mapping = {k: v + offset for k, v in mapping.items()}\n",
    "            offset += len(mapping)\n",
    "            data[col] = data[col].map(mapping)\n",
    "            mapping = {v: f\"{col}={k}\" for k, v in mapping.items()}\n",
    "            mappings.update(mapping)\n",
    "\n",
    "print(data.shape)\n",
    "data.head()"
   ]
  },
  {
   "cell_type": "code",
   "execution_count": 117,
   "metadata": {},
   "outputs": [],
   "source": [
    "# split data into features and target:\n",
    "if data_1:\n",
    "    X = data.drop([\"diagnosis\"], axis=1)\n",
    "    y = data[\"diagnosis\"]\n",
    "else:\n",
    "    X = data.drop([\"Class\"], axis=1)\n",
    "    y = data[\"Class\"]\n",
    "\n",
    "# split data into training and testing sets:\n",
    "X_train, X_test, y_train, y_test = train_test_split(\n",
    "    X, y, test_size=0.2, random_state=(42 if data_1 else 0)\n",
    ")"
   ]
  },
  {
   "cell_type": "code",
   "execution_count": 118,
   "metadata": {},
   "outputs": [
    {
     "name": "stdout",
     "output_type": "stream",
     "text": [
      "Cross validation scores:  [1.         1.         1.         1.         0.97727273]\n",
      "Mean score:  0.9954545454545455\n",
      "Test set score:  0.9821428571428571\n"
     ]
    }
   ],
   "source": [
    "# random forest classifier:\n",
    "rf_clf = RandomForestClassifier()\n",
    "scores = cross_val_score(rf_clf, X_train, y_train, cv=5)\n",
    "print(\"Cross validation scores: \", scores)\n",
    "print(\"Mean score: \", scores.mean())\n",
    "\n",
    "rf_clf.fit(X_train, y_train)\n",
    "test_score = rf_clf.score(X_test, y_test)\n",
    "print(\"Test set score: \", test_score)\n"
   ]
  },
  {
   "cell_type": "code",
   "execution_count": 119,
   "metadata": {},
   "outputs": [
    {
     "name": "stdout",
     "output_type": "stream",
     "text": [
      "Best parameters:  {'max_depth': 3, 'max_features': 5, 'n_estimators': 50}\n",
      "Best cross-validation score:  1.0\n",
      "Test set score:  0.9821428571428571\n"
     ]
    }
   ],
   "source": [
    "# use grid search to find the best hyperparameters:\n",
    "from sklearn.model_selection import GridSearchCV\n",
    "\n",
    "param_grid = {\n",
    "    \"n_estimators\": [50, 100, 200],\n",
    "    \"max_depth\": [3, 5, 7],\n",
    "    \"max_features\": [5, 10, 15],\n",
    "}\n",
    "\n",
    "grid_search = GridSearchCV(rf_clf, param_grid, cv=5)\n",
    "grid_search.fit(X_train, y_train)\n",
    "\n",
    "print(\"Best parameters: \", grid_search.best_params_)\n",
    "print(\"Best cross-validation score: \", grid_search.best_score_)\n",
    "print(\"Test set score: \", grid_search.score(X_test, y_test))"
   ]
  },
  {
   "cell_type": "code",
   "execution_count": 120,
   "metadata": {},
   "outputs": [
    {
     "name": "stdout",
     "output_type": "stream",
     "text": [
      "Scoring with precision:\n",
      "Best parameters:  {'max_depth': 3, 'max_features': 5, 'n_estimators': 50}\n",
      "Best cross-validation score:  1.0\n",
      "Test set score:  1.0\n",
      "Scoring with recall:\n",
      "Best parameters:  {'max_depth': 3, 'max_features': 5, 'n_estimators': 50}\n",
      "Best cross-validation score:  1.0\n",
      "Test set score:  0.9444444444444444\n",
      "Scoring with f1:\n",
      "Best parameters:  {'max_depth': 3, 'max_features': 5, 'n_estimators': 50}\n",
      "Best cross-validation score:  1.0\n",
      "Test set score:  0.9714285714285714\n"
     ]
    }
   ],
   "source": [
    "# find if different measure matters. try precision, recall, f1 score:\n",
    "def grid_search_with_scoring(scoring):\n",
    "    grid_search = GridSearchCV(rf_clf, param_grid, cv=5, scoring=scoring)\n",
    "    grid_search.fit(X_train, y_train)\n",
    "    print(\"Best parameters: \", grid_search.best_params_)\n",
    "    print(\"Best cross-validation score: \", grid_search.best_score_)\n",
    "    print(\"Test set score: \", grid_search.score(X_test, y_test))\n",
    "\n",
    "for scoring in [\"precision\", \"recall\", \"f1\"]:\n",
    "    print(f\"Scoring with {scoring}:\")\n",
    "    grid_search_with_scoring(scoring)"
   ]
  },
  {
   "cell_type": "code",
   "execution_count": 121,
   "metadata": {},
   "outputs": [
    {
     "data": {
      "image/png": "[encoded data removed]",
      "text/plain": [
       "<Figure size 640x480 with 1 Axes>"
      ]
     },
     "metadata": {},
     "output_type": "display_data"
    }
   ],
   "source": [
    "# Scoring with precision:\n",
    "# Best parameters:  {'max_depth': 7, 'max_features': 10, 'n_estimators': 200}\n",
    "# Best cross-validation score:  0.9618817204301076\n",
    "# Test set score:  0.9375\n",
    "# Scoring with recall:\n",
    "# Best parameters:  {'max_depth': 3, 'max_features': 15, 'n_estimators': 50}\n",
    "# Best cross-validation score:  0.948991935483871\n",
    "# Test set score:  0.9183673469387755\n",
    "# Scoring with f1:\n",
    "# Best parameters:  {'max_depth': 7, 'max_features': 15, 'n_estimators': 50}\n",
    "# Best cross-validation score:  0.9549836114383614\n",
    "# Test set score:  0.9375\n",
    "\n",
    "# plot above result:\n",
    "cross_validation_scores = [0.9618817204301076, 0.948991935483871, 0.9549836114383614]\n",
    "test_set_scores = [0.9375, 0.9183673469387755, 0.9375]\n",
    "scorings = [\"precision\", \"recall\", \"f1\"]\n",
    "\n",
    "# bar plot, two bar side by side:\n",
    "barWidth = 0.3\n",
    "r1 = np.arange(len(cross_validation_scores))\n",
    "r2 = [x + barWidth for x in r1]\n",
    "plt.bar(r1, cross_validation_scores, color=\"blue\", width=barWidth, edgecolor=\"grey\", label=\"Cross Validation\")\n",
    "plt.bar(r2, test_set_scores, color=\"red\", width=barWidth, edgecolor=\"grey\", label=\"Test Set\")\n",
    "plt.legend()\n",
    "plt.xlabel(\"Scoring\")\n",
    "# print the scorings on x-axis:\n",
    "plt.xticks([r + barWidth for r in range(len(cross_validation_scores))], scorings)\n",
    "plt.ylabel(\"Scores\")\n",
    "plt.title(\"Cross Validation and Test Set Scores with Different Scoring\")\n",
    "plt.savefig(\"./imgs/cross_validation_and_test_set_scores_with_different_scoring.png\")\n",
    "plt.show()"
   ]
  },
  {
   "cell_type": "code",
   "execution_count": 122,
   "metadata": {},
   "outputs": [
    {
     "name": "stdout",
     "output_type": "stream",
     "text": [
      "Cross validation scores:  [1.         1.         1.         1.         0.97727273]\n",
      "Mean score:  0.9954545454545455\n",
      "Test set score:  0.9821428571428571\n"
     ]
    }
   ],
   "source": [
    "from sklearn.neighbors import KNeighborsClassifier\n",
    "\n",
    "# k-nearest neighbors classifier:\n",
    "knn_clf = KNeighborsClassifier()\n",
    "scores = cross_val_score(knn_clf, X_train, y_train, cv=5)\n",
    "print(\"Cross validation scores: \", scores)\n",
    "print(\"Mean score: \", scores.mean())\n",
    "\n",
    "knn_clf.fit(X_train, y_train)\n",
    "test_score = knn_clf.score(X_test, y_test)\n",
    "print(\"Test set score: \", test_score)"
   ]
  },
  {
   "cell_type": "code",
   "execution_count": 123,
   "metadata": {},
   "outputs": [
    {
     "name": "stdout",
     "output_type": "stream",
     "text": [
      "Best parameters:  {'n_neighbors': 5, 'p': 2, 'weights': 'distance'}\n",
      "Best cross-validation score:  1.0\n",
      "Test set score:  0.9821428571428571\n"
     ]
    }
   ],
   "source": [
    "param_grid = {\n",
    "    \"n_neighbors\": [3, 5, 7, 9],\n",
    "    \"weights\": [\"uniform\", \"distance\"],\n",
    "    \"p\": [1, 2],\n",
    "}\n",
    "\n",
    "grid_search = GridSearchCV(knn_clf, param_grid, cv=5)\n",
    "grid_search.fit(X_train, y_train)\n",
    "\n",
    "print(\"Best parameters: \", grid_search.best_params_)\n",
    "print(\"Best cross-validation score: \", grid_search.best_score_)\n",
    "print(\"Test set score: \", grid_search.score(X_test, y_test))"
   ]
  },
  {
   "cell_type": "code",
   "execution_count": 124,
   "metadata": {},
   "outputs": [
    {
     "name": "stdout",
     "output_type": "stream",
     "text": [
      "Best parameters:  {'n_neighbors': 5, 'p': 2, 'weights': 'distance'}\n",
      "Best cross-validation score:  1.0\n",
      "Test set score:  0.9821428571428571\n"
     ]
    }
   ],
   "source": [
    "from sklearn.feature_selection import SelectKBest, f_classif\n",
    "\n",
    "# select best features:\n",
    "selector = SelectKBest(f_classif, k=10)\n",
    "X_train_selected = selector.fit_transform(X_train, y_train)\n",
    "X_test_selected = selector.transform(X_test)\n",
    "\n",
    "grid_search.fit(X_train_selected, y_train)\n",
    "\n",
    "print(\"Best parameters: \", grid_search.best_params_)\n",
    "print(\"Best cross-validation score: \", grid_search.best_score_)\n",
    "print(\"Test set score: \", grid_search.score(X_test_selected, y_test))"
   ]
  },
  {
   "cell_type": "code",
   "execution_count": 125,
   "metadata": {},
   "outputs": [
    {
     "name": "stdout",
     "output_type": "stream",
     "text": [
      "Scoring with precision:\n",
      "Best parameters:  {'n_neighbors': 5, 'p': 2, 'weights': 'distance'}\n",
      "Best cross-validation score:  1.0\n",
      "Test set score:  1.0\n",
      "Scoring with recall:\n",
      "Best parameters:  {'n_neighbors': 3, 'p': 1, 'weights': 'distance'}\n",
      "Best cross-validation score:  1.0\n",
      "Test set score:  0.9444444444444444\n",
      "Scoring with f1:\n",
      "Best parameters:  {'n_neighbors': 5, 'p': 2, 'weights': 'distance'}\n",
      "Best cross-validation score:  1.0\n",
      "Test set score:  0.9714285714285714\n"
     ]
    }
   ],
   "source": [
    "def grid_search_with_scoring(scoring):\n",
    "    grid_search = GridSearchCV(knn_clf, param_grid, cv=5, scoring=scoring)\n",
    "    grid_search.fit(X_train_selected, y_train)\n",
    "    print(\"Best parameters: \", grid_search.best_params_)\n",
    "    print(\"Best cross-validation score: \", grid_search.best_score_)\n",
    "    print(\"Test set score: \", grid_search.score(X_test_selected, y_test))\n",
    "\n",
    "for scoring in [\"precision\", \"recall\", \"f1\"]:\n",
    "    print(f\"Scoring with {scoring}:\")\n",
    "    grid_search_with_scoring(scoring)"
   ]
  },
  {
   "cell_type": "code",
   "execution_count": 126,
   "metadata": {},
   "outputs": [
    {
     "data": {
      "image/png": "[encoded data removed]",
      "text/plain": [
       "<Figure size 640x480 with 1 Axes>"
      ]
     },
     "metadata": {},
     "output_type": "display_data"
    }
   ],
   "source": [
    "# Scoring with precision:\n",
    "# Best parameters:  {'n_neighbors': 9, 'p': 1, 'weights': 'distance'}\n",
    "# Best cross-validation score:  0.9737500000000001\n",
    "# Test set score:  0.8936170212765957\n",
    "# Scoring with recall:\n",
    "# Best parameters:  {'n_neighbors': 9, 'p': 1, 'weights': 'distance'}\n",
    "# Best cross-validation score:  0.904233870967742\n",
    "# Test set score:  0.8571428571428571\n",
    "# Scoring with f1:\n",
    "# Best parameters:  {'n_neighbors': 9, 'p': 1, 'weights': 'distance'}\n",
    "# Best cross-validation score:  0.9367660716492752\n",
    "# Test set score:  0.875\n",
    "\n",
    "cross_validation_scores = [0.9737500000000001, 0.904233870967742, 0.9367660716492752]\n",
    "test_set_scores = [0.8936170212765957, 0.8571428571428571, 0.875]\n",
    "scorings = [\"precision\", \"recall\", \"f1\"]\n",
    "\n",
    "# bar plot, two bar side by side:\n",
    "barWidth = 0.3\n",
    "r1 = np.arange(len(cross_validation_scores))\n",
    "r2 = [x + barWidth for x in r1]\n",
    "plt.bar(r1, cross_validation_scores, color=\"blue\", width=barWidth, edgecolor=\"grey\", label=\"Cross Validation\")\n",
    "plt.bar(r2, test_set_scores, color=\"red\", width=barWidth, edgecolor=\"grey\", label=\"Test Set\")\n",
    "plt.legend()\n",
    "plt.xlabel(\"Scoring\")\n",
    "# print the scorings on x-axis:\n",
    "plt.xticks([r + barWidth for r in range(len(cross_validation_scores))], scorings)\n",
    "plt.ylabel(\"Scores\")\n",
    "plt.title(\"Cross Validation and Test Set Scores with Different Scoring\")\n",
    "plt.savefig(\"./imgs/cross_validation_and_test_set_scores_with_different_scoring_knn.png\")\n",
    "plt.show()"
   ]
  },
  {
   "cell_type": "code",
   "execution_count": null,
   "metadata": {},
   "outputs": [],
   "source": []
  }
 ],
 "metadata": {
  "kernelspec": {
   "display_name": "venv",
   "language": "python",
   "name": "python3"
  },
  "language_info": {
   "codemirror_mode": {
    "name": "ipython",
    "version": 3
   },
   "file_extension": ".py",
   "mimetype": "text/x-python",
   "name": "python",
   "nbconvert_exporter": "python",
   "pygments_lexer": "ipython3",
   "version": "3.12.3"
  }
 },
 "nbformat": 4,
 "nbformat_minor": 2
}
