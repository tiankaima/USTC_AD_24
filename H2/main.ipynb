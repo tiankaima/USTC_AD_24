{
 "cells": [
  {
   "cell_type": "markdown",
   "metadata": {},
   "source": [
    "# USTC-AD/2024 课程作业 实验报告\n",
    "\n",
    "| 实验 2          | DBLP 论文信息获取与整理 |\n",
    "| --------------- | ----------------------- |\n",
    "| 马天开          | PB21000030              |\n",
    "| Due: 2024.03.28 | Submitted: 2024.03.14   |"
   ]
  },
  {
   "cell_type": "code",
   "execution_count": 1,
   "metadata": {},
   "outputs": [],
   "source": [
    "import re\n",
    "import requests\n",
    "import json\n",
    "from pprint import pprint"
   ]
  },
  {
   "cell_type": "code",
   "execution_count": 2,
   "metadata": {},
   "outputs": [
    {
     "name": "stdout",
     "output_type": "stream",
     "text": [
      "{'Host': 'dblp.uni-trier.de', 'User-Agent': 'Mozilla/5.0 (Macintosh; Intel Mac OS X 10.15; rv:123.0) Gecko/20100101 Firefox/123.0', 'Accept': 'text/html,application/xhtml+xml,application/xml;q=0.9,image/avif,image/webp,*/*;q=0.8', 'Accept-Language': 'zh-CN,zh;q=0.8,zh-TW;q=0.7,zh-HK;q=0.5,en-US;q=0.3,en;q=0.2', 'Accept-Encoding': 'gzip, deflate, br', 'DNT': '1', 'Sec-GPC': '1', 'Connection': 'keep-alive', 'Cookie': 'dblp-search-mode=c; dblp-dismiss-new-feature-2022-01-27=1', 'Upgrade-Insecure-Requests': '1', 'Sec-Fetch-Dest': 'document', 'Sec-Fetch-Mode': 'navigate', 'Sec-Fetch-Site': 'cross-site'}\n"
     ]
    }
   ],
   "source": [
    "headers_raw = \"\"\"\n",
    "Host: dblp.uni-trier.de\n",
    "User-Agent: Mozilla/5.0 (Macintosh; Intel Mac OS X 10.15; rv:123.0) Gecko/20100101 Firefox/123.0\n",
    "Accept: text/html,application/xhtml+xml,application/xml;q=0.9,image/avif,image/webp,*/*;q=0.8\n",
    "Accept-Language: zh-CN,zh;q=0.8,zh-TW;q=0.7,zh-HK;q=0.5,en-US;q=0.3,en;q=0.2\n",
    "Accept-Encoding: gzip, deflate, br\n",
    "DNT: 1\n",
    "Sec-GPC: 1\n",
    "Connection: keep-alive\n",
    "Cookie: dblp-search-mode=c; dblp-dismiss-new-feature-2022-01-27=1\n",
    "Upgrade-Insecure-Requests: 1\n",
    "Sec-Fetch-Dest: document\n",
    "Sec-Fetch-Mode: navigate\n",
    "Sec-Fetch-Site: cross-site\n",
    "\"\"\"\n",
    "\n",
    "headers = {}\n",
    "for line in headers_raw.split(\"\\n\"):\n",
    "    if line.strip() == \"\":\n",
    "        continue\n",
    "    k, v = line.split(\": \")\n",
    "    headers[k] = v\n",
    "\n",
    "print(headers)"
   ]
  },
  {
   "cell_type": "code",
   "execution_count": 3,
   "metadata": {},
   "outputs": [],
   "source": [
    "# open https://dblp.uni-trier.de/db/conf/kdd/kdd2023.html and save to page.txt\n",
    "req = requests.get(\"https://dblp.uni-trier.de/db/conf/kdd/kdd2023.html\", headers=headers)\n",
    "with open(\"page.txt\", \"w\") as f:\n",
    "    f.write(req.text)"
   ]
  },
  {
   "cell_type": "code",
   "execution_count": 4,
   "metadata": {},
   "outputs": [],
   "source": [
    "with open(\"page.txt\", \"r\") as f:\n",
    "    page = f.read()"
   ]
  },
  {
   "cell_type": "code",
   "execution_count": 5,
   "metadata": {},
   "outputs": [],
   "source": [
    "# this is pratically useless since builtin reflection in python is bullshit and json dumps is not working\n",
    "# using simple dict + list instead\n",
    "class Paper:\n",
    "    authors: list[str]\n",
    "    title: str\n",
    "    startPage: int\n",
    "    endPage: int\n",
    "\n",
    "    def __init__(\n",
    "        self,\n",
    "        authors: list[str] = [],\n",
    "        title: str = \"\",\n",
    "        startPage: int = 0,\n",
    "        endPage: int = 0\n",
    "    ):\n",
    "        self.authors = authors\n",
    "        self.title = title\n",
    "        self.startPage = startPage\n",
    "        self.endPage = endPage\n",
    "\n",
    "\n",
    "class Track:\n",
    "    track: str\n",
    "    papers: list[Paper]\n",
    "\n",
    "    def __init__(\n",
    "        self,\n",
    "        track: str = \"\",\n",
    "        papers: list[Paper] = []\n",
    "    ):\n",
    "        self.track = track\n",
    "        self.papers = papers\n",
    "\n",
    "\n",
    "tracks = []"
   ]
  },
  {
   "cell_type": "code",
   "execution_count": 6,
   "metadata": {},
   "outputs": [],
   "source": [
    "# regex patterns:\n",
    "# since no DOM parsing package is built-in, we have to use regex to parse the page\n",
    "\n",
    "track_full_pattern = re.compile(r'<header class=\"h2\">(.*?)<meta property=\"genre\" content=\"computer science\"></li></ul>')\n",
    "track_name_pattern = re.compile(r'<h2 id=\"(.+?)\">(.+?)</h2>')\n",
    "paper_full_pattern = re.compile(r'<li class=\"entry inproceedings\"(.*?)<meta property=\"genre\" content=\"computer science\"></li>')\n",
    "author_name_pattern = re.compile(r'<span itemprop=\"name\" title=\".*?\">(.*?)</span>')\n",
    "title_pattern = re.compile(r'<span class=\"title\" itemprop=\"name\">(.+?)</span>')\n",
    "pagination_pattern = re.compile(r'<span itemprop=\"pagination\">(.+?)</span>')"
   ]
  },
  {
   "cell_type": "code",
   "execution_count": 7,
   "metadata": {},
   "outputs": [
    {
     "name": "stdout",
     "output_type": "stream",
     "text": [
      "Research Track Full Papers \n",
      " 312\n",
      "Applied Data Track Full Papers \n",
      " 182\n"
     ]
    }
   ],
   "source": [
    "tracks = []\n",
    "for track_raw in track_full_pattern.findall(page)[:2]:\n",
    "    track = {}\n",
    "    track[\"track\"] = track_name_pattern.search(track_raw).group(2)\n",
    "    track[\"papers\"] = []\n",
    "\n",
    "    for paper_raw in paper_full_pattern.findall(track_raw):\n",
    "        paper = {}\n",
    "        authors = []\n",
    "        for author in author_name_pattern.findall(paper_raw):\n",
    "            authors.append(author)\n",
    "        paper[\"authors\"] = authors\n",
    "        paper[\"title\"] = title_pattern.search(paper_raw).group(1)\n",
    "\n",
    "        pagination = pagination_pattern.search(paper_raw).group(1)\n",
    "        if '-' in pagination:\n",
    "            _pagination = pagination.split('-')\n",
    "            paper[\"startPage\"] = int(_pagination[0])\n",
    "            paper[\"endPage\"] = int(_pagination[1])\n",
    "        else:\n",
    "            paper[\"startPage\"] = int(pagination)\n",
    "            paper[\"endPage\"] = int(pagination)\n",
    "        track[\"papers\"].append(paper)\n",
    "\n",
    "        # print(paper.authors)\n",
    "\n",
    "    print(track[\"track\"], \"\\n\", len(track[\"papers\"]))\n",
    "\n",
    "    tracks.append(track)"
   ]
  },
  {
   "cell_type": "code",
   "execution_count": 8,
   "metadata": {},
   "outputs": [],
   "source": [
    "# save tracks to json\n",
    "with open(\"kdd23.json\", \"w\") as f:\n",
    "    f.write(json.dumps(tracks, indent=2))"
   ]
  },
  {
   "cell_type": "code",
   "execution_count": 9,
   "metadata": {},
   "outputs": [
    {
     "name": "stdout",
     "output_type": "stream",
     "text": [
      "['https://dblp.uni-trier.de/pid/211/5760.html', 'https://dblp.uni-trier.de/pid/211/5760.html', 'https://dblp.uni-trier.de/pid/211/5760.html', 'https://dblp.uni-trier.de/pid/247/9288.html', 'https://dblp.uni-trier.de/pid/247/9288.html', 'https://dblp.uni-trier.de/pid/247/9288.html', 'https://dblp.uni-trier.de/pid/221/2843.html', 'https://dblp.uni-trier.de/pid/221/2843.html', 'https://dblp.uni-trier.de/pid/221/2843.html', 'https://dblp.uni-trier.de/pid/221/2843.html', 'https://dblp.uni-trier.de/pid/221/2843.html', 'https://dblp.uni-trier.de/pid/221/2843.html', 'https://dblp.uni-trier.de/pid/221/2843.html', 'https://dblp.uni-trier.de/pid/221/2843.html', 'https://dblp.uni-trier.de/pid/221/2843.html', 'https://dblp.uni-trier.de/pid/221/2843.html', 'https://dblp.uni-trier.de/pid/221/2843.html', 'https://dblp.uni-trier.de/pid/201/1957.html', 'https://dblp.uni-trier.de/pid/201/1957.html', 'https://dblp.uni-trier.de/pid/201/1957.html', 'https://dblp.uni-trier.de/pid/201/1957.html', 'https://dblp.uni-trier.de/pid/270/0786.html', 'https://dblp.uni-trier.de/pid/270/0786.html', 'https://dblp.uni-trier.de/pid/270/0786.html', 'https://dblp.uni-trier.de/pid/270/0786.html', 'https://dblp.uni-trier.de/pid/270/0786.html', 'https://dblp.uni-trier.de/pid/250/9281.html', 'https://dblp.uni-trier.de/pid/250/9281.html', 'https://dblp.uni-trier.de/pid/250/9281.html', 'https://dblp.uni-trier.de/pid/250/9281.html', 'https://dblp.uni-trier.de/pid/250/9281.html', 'https://dblp.uni-trier.de/pid/250/9281.html', 'https://dblp.uni-trier.de/pid/300/4385.html', 'https://dblp.uni-trier.de/pid/300/4385.html', 'https://dblp.uni-trier.de/pid/300/4385.html', 'https://dblp.uni-trier.de/pid/300/4385.html', 'https://dblp.uni-trier.de/pid/222/8125.html', 'https://dblp.uni-trier.de/pid/222/8125.html', 'https://dblp.uni-trier.de/pid/222/8125.html', 'https://dblp.uni-trier.de/pid/222/8125.html', 'https://dblp.uni-trier.de/pid/222/8125.html', 'https://dblp.uni-trier.de/pid/222/8125.html', 'https://dblp.uni-trier.de/pid/169/9751.html', 'https://dblp.uni-trier.de/pid/169/9751.html', 'https://dblp.uni-trier.de/pid/169/9751.html', 'https://dblp.uni-trier.de/pid/169/9751.html', 'https://dblp.uni-trier.de/pid/169/9751.html', 'https://dblp.uni-trier.de/pid/169/9751.html', 'https://dblp.uni-trier.de/pid/224/0256.html', 'https://dblp.uni-trier.de/pid/224/0256.html', 'https://dblp.uni-trier.de/pid/224/0256.html', 'https://dblp.uni-trier.de/pid/224/0256.html', 'https://dblp.uni-trier.de/pid/79/8611.html', 'https://dblp.uni-trier.de/pid/79/8611.html', 'https://dblp.uni-trier.de/pid/79/8611.html', 'https://dblp.uni-trier.de/pid/79/8611.html', 'https://dblp.uni-trier.de/pid/326/4004.html', 'https://dblp.uni-trier.de/pid/326/4004.html', 'https://dblp.uni-trier.de/pid/326/4004.html', 'https://dblp.uni-trier.de/pid/326/4004.html', 'https://dblp.uni-trier.de/pid/275/9924.html', 'https://dblp.uni-trier.de/pid/275/9924.html', 'https://dblp.uni-trier.de/pid/275/9924.html', 'https://dblp.uni-trier.de/pid/161/9645.html', 'https://dblp.uni-trier.de/pid/161/9645.html', 'https://dblp.uni-trier.de/pid/161/9645.html', 'https://dblp.uni-trier.de/pid/161/9645.html', 'https://dblp.uni-trier.de/pid/161/9645.html', 'https://dblp.uni-trier.de/pid/339/7339.html', 'https://dblp.uni-trier.de/pid/339/7339.html', 'https://dblp.uni-trier.de/pid/339/7339.html', 'https://dblp.uni-trier.de/pid/339/7339.html', 'https://dblp.uni-trier.de/pid/339/7339.html', 'https://dblp.uni-trier.de/pid/339/7339.html', 'https://dblp.uni-trier.de/pid/339/7339.html', 'https://dblp.uni-trier.de/pid/339/7339.html', 'https://dblp.uni-trier.de/pid/259/2365.html', 'https://dblp.uni-trier.de/pid/259/2365.html', 'https://dblp.uni-trier.de/pid/259/2365.html', 'https://dblp.uni-trier.de/pid/224/5573.html', 'https://dblp.uni-trier.de/pid/224/5573.html', 'https://dblp.uni-trier.de/pid/224/5573.html', 'https://dblp.uni-trier.de/pid/224/5573.html', 'https://dblp.uni-trier.de/pid/224/5573.html', 'https://dblp.uni-trier.de/pid/224/5573.html', 'https://dblp.uni-trier.de/pid/224/5573.html', 'https://dblp.uni-trier.de/pid/224/5573.html', 'https://dblp.uni-trier.de/pid/224/5573.html', 'https://dblp.uni-trier.de/pid/224/5573.html', 'https://dblp.uni-trier.de/pid/224/5573.html', 'https://dblp.uni-trier.de/pid/264/5777.html', 'https://dblp.uni-trier.de/pid/264/5777.html', 'https://dblp.uni-trier.de/pid/264/5777.html', 'https://dblp.uni-trier.de/pid/264/5777.html', 'https://dblp.uni-trier.de/pid/264/5777.html', 'https://dblp.uni-trier.de/pid/264/5777.html', 'https://dblp.uni-trier.de/pid/264/5777.html', 'https://dblp.uni-trier.de/pid/264/5777.html', 'https://dblp.uni-trier.de/pid/264/5777.html', 'https://dblp.uni-trier.de/pid/264/5777.html', 'https://dblp.uni-trier.de/pid/264/5777.html', 'https://dblp.uni-trier.de/pid/264/5777.html', 'https://dblp.uni-trier.de/pid/264/5777.html', 'https://dblp.uni-trier.de/pid/264/5777.html', 'https://dblp.uni-trier.de/pid/264/5777.html', 'https://dblp.uni-trier.de/pid/264/5777.html', 'https://dblp.uni-trier.de/pid/264/5777.html', 'https://dblp.uni-trier.de/pid/264/5777.html', 'https://dblp.uni-trier.de/pid/15/10240.html', 'https://dblp.uni-trier.de/pid/15/10240.html', 'https://dblp.uni-trier.de/pid/15/10240.html', 'https://dblp.uni-trier.de/pid/15/10240.html']\n"
     ]
    }
   ],
   "source": [
    "url_pattern = re.compile(r'https://dblp.uni-trier.de/pid/\\d+/\\d+.html')\n",
    "\n",
    "author_urls = []\n",
    "for track_raw in track_full_pattern.findall(page)[:2]:\n",
    "    for paper_raw in paper_full_pattern.findall(track_raw)[:10]:\n",
    "        for author in author_name_pattern.findall(paper_raw):\n",
    "            url = url_pattern.search(paper_raw).group(0)\n",
    "            author_urls.append(url)\n",
    "\n",
    "print(author_urls)"
   ]
  },
  {
   "cell_type": "code",
   "execution_count": 10,
   "metadata": {},
   "outputs": [],
   "source": [
    "name_pattern = re.compile(r'<span class=\"name primary\" itemprop=\"name\">(.*?)</span>')\n",
    "orcid_pattern = re.compile(r'<a href=\"https://orcid.org/([0-9]{4}-[0-9]{4}-[0-9]{4}-[0-9]{3}[0-9X])\"')\n",
    "paper_pattern = re.compile(r'<li class=\"entry inproceedings toc\"(.*?)<meta property=\"genre\" content=\"computer science\"></li>')\n",
    "\n",
    "publish_info_pattern_A = re.compile(r'<span itemprop=\"isPartOf\" itemscope=\"\" itemtype=\"http://schema.org/PublicationVolume\"><span itemprop=\"volumeNumber\">(.*?)</span></span></a> (<span itemprop=\"datePublished\">(.*?)</span>)')\n",
    "publish_info_pattern_B = re.compile(r'<span itemprop=\"name\">(.*?)</span></span> <span itemprop=\"datePublished\">(.*?)</span></a>: <span itemprop=\"pagination\">(.*?)</span>')\n",
    "publish_info_pattern_C = re.compile(r'<span itemprop=\"name\">(.*?)</span></span> <span itemprop=\"datePublished\">(.*?)</span></a>')\n",
    "\n",
    "def handle_url(url: str):\n",
    "    text = requests.get(url, headers=headers).text\n",
    "\n",
    "    name = name_pattern.search(text).group(1)\n",
    "    try:\n",
    "        orcid = orcid_pattern.search(text).group(1)\n",
    "    except:\n",
    "        orcid = \"\"\n",
    "\n",
    "    papers = []\n",
    "    for paper_raw in paper_pattern.findall(text):\n",
    "        authors = []\n",
    "        authors.append(name)\n",
    "        for author in author_name_pattern.findall(paper_raw):\n",
    "            authors.append(author)\n",
    "        title = title_pattern.search(paper_raw).group(1)\n",
    "\n",
    "        # find publish info & year, try two patterns\n",
    "        try:\n",
    "            volume, year = publish_info_pattern_A.search(paper_raw).groups()\n",
    "            publishInfo = f\"{volume} ({year})\"\n",
    "        except:\n",
    "            try:\n",
    "                volume, year, pagination = publish_info_pattern_B.search(paper_raw).groups()\n",
    "                publishInfo = f\"{volume} {year}: {pagination}\"\n",
    "            except:\n",
    "                volume, year = publish_info_pattern_C.search(paper_raw).groups()\n",
    "                publishInfo = f\"{volume} {year}\"\n",
    "        year = int(year)\n",
    "        if year < 2020:\n",
    "            continue\n",
    "\n",
    "        papers.append({\n",
    "            \"authors\": authors,\n",
    "            \"title\": title,\n",
    "            \"publishInfo\": publishInfo,\n",
    "            \"year\": year,\n",
    "        })\n",
    "\n",
    "    return {\n",
    "        \"name\": name,\n",
    "        \"orcid\": orcid,\n",
    "        \"papers\": papers\n",
    "    }\n",
    "\n",
    "# pprint(handle_url(author_urls[0]))"
   ]
  },
  {
   "cell_type": "code",
   "execution_count": 11,
   "metadata": {},
   "outputs": [
    {
     "name": "stdout",
     "output_type": "stream",
     "text": [
      "19\n"
     ]
    }
   ],
   "source": [
    "cleaned_author_urls = list(set(author_urls))\n",
    "print(len(cleaned_author_urls))\n",
    "authors = []\n",
    "for url in cleaned_author_urls:\n",
    "    authors.append(handle_url(url))"
   ]
  },
  {
   "cell_type": "code",
   "execution_count": 12,
   "metadata": {},
   "outputs": [],
   "source": [
    "# save to reserachers.json\n",
    "with open(\"researchers.json\", \"w\") as f:\n",
    "    f.write(json.dumps(authors, indent=2))"
   ]
  },
  {
   "cell_type": "code",
   "execution_count": null,
   "metadata": {},
   "outputs": [],
   "source": []
  }
 ],
 "metadata": {
  "kernelspec": {
   "display_name": "Python 3",
   "language": "python",
   "name": "python3"
  },
  "language_info": {
   "codemirror_mode": {
    "name": "ipython",
    "version": 3
   },
   "file_extension": ".py",
   "mimetype": "text/x-python",
   "name": "python",
   "nbconvert_exporter": "python",
   "pygments_lexer": "ipython3",
   "version": "3.11.8"
  }
 },
 "nbformat": 4,
 "nbformat_minor": 2
}
