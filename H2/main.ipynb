{
 "cells": [
  {
   "cell_type": "code",
   "execution_count": 23,
   "metadata": {},
   "outputs": [],
   "source": [
    "import re\n",
    "import requests\n",
    "import os\n",
    "import json\n",
    "from pprint import pprint"
   ]
  },
  {
   "cell_type": "code",
   "execution_count": 3,
   "metadata": {},
   "outputs": [
    {
     "name": "stdout",
     "output_type": "stream",
     "text": [
      "{'Host': 'dblp.uni-trier.de', 'User-Agent': 'Mozilla/5.0 (Macintosh; Intel Mac OS X 10.15; rv:123.0) Gecko/20100101 Firefox/123.0', 'Accept': 'text/html,application/xhtml+xml,application/xml;q=0.9,image/avif,image/webp,*/*;q=0.8', 'Accept-Language': 'zh-CN,zh;q=0.8,zh-TW;q=0.7,zh-HK;q=0.5,en-US;q=0.3,en;q=0.2', 'Accept-Encoding': 'gzip, deflate, br', 'DNT': '1', 'Sec-GPC': '1', 'Connection': 'keep-alive', 'Cookie': 'dblp-search-mode=c; dblp-dismiss-new-feature-2022-01-27=1', 'Upgrade-Insecure-Requests': '1', 'Sec-Fetch-Dest': 'document', 'Sec-Fetch-Mode': 'navigate', 'Sec-Fetch-Site': 'cross-site'}\n"
     ]
    }
   ],
   "source": [
    "header_raw = \"\"\"\n",
    "Host: dblp.uni-trier.de\n",
    "User-Agent: Mozilla/5.0 (Macintosh; Intel Mac OS X 10.15; rv:123.0) Gecko/20100101 Firefox/123.0\n",
    "Accept: text/html,application/xhtml+xml,application/xml;q=0.9,image/avif,image/webp,*/*;q=0.8\n",
    "Accept-Language: zh-CN,zh;q=0.8,zh-TW;q=0.7,zh-HK;q=0.5,en-US;q=0.3,en;q=0.2\n",
    "Accept-Encoding: gzip, deflate, br\n",
    "DNT: 1\n",
    "Sec-GPC: 1\n",
    "Connection: keep-alive\n",
    "Cookie: dblp-search-mode=c; dblp-dismiss-new-feature-2022-01-27=1\n",
    "Upgrade-Insecure-Requests: 1\n",
    "Sec-Fetch-Dest: document\n",
    "Sec-Fetch-Mode: navigate\n",
    "Sec-Fetch-Site: cross-site\n",
    "\"\"\"\n",
    "\n",
    "header = {}\n",
    "for line in header_raw.split('\\n'):\n",
    "    if line.strip() == '':\n",
    "        continue\n",
    "    k, v = line.split(': ')\n",
    "    header[k] = v\n",
    "\n",
    "print(header)"
   ]
  },
  {
   "cell_type": "code",
   "execution_count": 4,
   "metadata": {},
   "outputs": [],
   "source": [
    "# open https://dblp.uni-trier.de/db/conf/kdd/kdd2023.html and save to page.txt\n",
    "req = requests.get('https://dblp.uni-trier.de/db/conf/kdd/kdd2023.html', headers=header)\n",
    "with open('page.txt', 'w') as f:\n",
    "    f.write(req.text)"
   ]
  },
  {
   "cell_type": "code",
   "execution_count": 15,
   "metadata": {},
   "outputs": [],
   "source": [
    "with open('page.txt', 'r') as f:\n",
    "    page = f.read()"
   ]
  },
  {
   "cell_type": "code",
   "execution_count": 29,
   "metadata": {},
   "outputs": [],
   "source": [
    "class Paper:\n",
    "    author: list[str]\n",
    "    title: str\n",
    "    startPage: int\n",
    "    endPage: int\n",
    "\n",
    "class Track:\n",
    "    track: str\n",
    "    papers: list[Paper]\n",
    "\n",
    "all_papers: list[(int, Paper)] = []\n",
    "all_tracks: list[Track] = []"
   ]
  },
  {
   "cell_type": "code",
   "execution_count": 32,
   "metadata": {},
   "outputs": [],
   "source": [
    "# regex patterns:\n",
    "\n",
    "track_full_pattern = re.compile(r\"\"\"<header class=\"h2\"><h2 id=\"secResearchTrackFullPapers\">Research Track Full Papers</h2></header>\"\"\")\n",
    "\n",
    "# <header class=\"h2\"><h2 id=\"secResearchTrackFullPapers\">Research Track Full Papers</h2></header>\n",
    "track_name_pattern = re.compile(r\"\"\"<header class=\"h2\"><h2 id=\"(.+?)\">(.+?)</h2></header>\"\"\")\n",
    "\n",
    "# <span itemprop=\"author\" itemscope=\"\" itemtype=\"http://schema.org/Person\"><a href=\"https://dblp.uni-trier.de/pid/211/5760.html\" itemprop=\"url\"><span itemprop=\"name\" title=\"Florian Adriaens\">Florian Adriaens</span></a><img src=\"https://dblp.uni-trier.de/img/orcid-mark.12x12.png\" style=\"padding-left:0.25em;\" alt=\"\" title=\"0000-0001-7820-6883\"></span>\n",
    "author_name_pattern = re.compile(r\"\"\"<span itemprop=\"author\" itemscope=\"\" itemtype=\"http://schema.org/Person\"><a href=\"https://dblp.uni-trier.de/pid/.+?\\.html\" itemprop=\"url\"><span itemprop=\"name\" title=\"(.+?)\">.+?</span></a><img src=\"https://dblp.uni-trier.de/img/orcid-mark.12x12.png\" style=\"padding-left:0.25em;\" alt=\"\" title=\".+?\"></span>\"\"\")\n",
    "\n",
    "# <span class=\"title\" itemprop=\"name\">Minimizing Hitting Time between Disparate Groups with Shortcut Edges.</span>\n",
    "title_pattern = re.compile(r\"\"\"<span class=\"title\" itemprop=\"name\">(.+?)</span>\"\"\")\n",
    "\n",
    "# <span itemprop=\"pagination\">1-10</span>\n",
    "pagination_pattern = re.compile(r\"\"\"<span itemprop=\"pagination\">(\\d+)-(\\d+)</span>\"\"\")"
   ]
  },
  {
   "cell_type": "code",
   "execution_count": null,
   "metadata": {},
   "outputs": [],
   "source": [
    "# use track_name_pattern to find all tracks, then use other patterns to find papers in each track\n",
    "tracks = track_name_pattern.findall(page)\n",
    "for track_id, track_name in tracks:\n",
    "    print(track_id, track_name)\n",
    "    track = Track()\n",
    "    track.track = track_name\n",
    "    track.papers = []\n",
    "    all_tracks.append(track)\n",
    "\n",
    "    # find all papers in this track\n",
    "    papers = re.findall(f\"\"\"<h3 class=\"title\" itemprop=\"name\"><a href=\"https://dblp.uni-trier.de/db/conf/kdd/kdd2023.html#(.+?)\">.+?</a></h3>\"\"\", page)\n",
    "    for paper_id in papers:\n",
    "        paper = Paper()\n",
    "        paper.author = author_name_pattern.findall(page)\n",
    "        paper.title = title_pattern.findall(page)\n",
    "        paper.startPage, paper.endPage = map(int, pagination_pattern.findall(page)[0])\n",
    "        all_papers.append((track_id, paper))"
   ]
  }
 ],
 "metadata": {
  "kernelspec": {
   "display_name": "Python 3",
   "language": "python",
   "name": "python3"
  },
  "language_info": {
   "codemirror_mode": {
    "name": "ipython",
    "version": 3
   },
   "file_extension": ".py",
   "mimetype": "text/x-python",
   "name": "python",
   "nbconvert_exporter": "python",
   "pygments_lexer": "ipython3",
   "version": "3.12.2"
  }
 },
 "nbformat": 4,
 "nbformat_minor": 2
}
